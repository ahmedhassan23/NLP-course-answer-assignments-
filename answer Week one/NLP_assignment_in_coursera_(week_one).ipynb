{
  "nbformat": 4,
  "nbformat_minor": 0,
  "metadata": {
    "colab": {
      "name": "NLP assignment in coursera (week one).ipynb",
      "provenance": [],
      "collapsed_sections": []
    },
    "kernelspec": {
      "name": "python3",
      "display_name": "Python 3"
    }
  },
  "cells": [
    {
      "cell_type": "code",
      "metadata": {
        "id": "s9iJ7ef6kX0A",
        "colab_type": "code",
        "colab": {}
      },
      "source": [
        "from keras.preprocessing.text import Tokenizer\n",
        "from keras.preprocessing.sequence import pad_sequences"
      ],
      "execution_count": 0,
      "outputs": []
    },
    {
      "cell_type": "code",
      "metadata": {
        "id": "67nW_rdDkog8",
        "colab_type": "code",
        "outputId": "83408987-db26-44dd-dffc-31fc31ed3865",
        "colab": {
          "base_uri": "https://localhost:8080/",
          "height": 34
        }
      },
      "source": [
        "sentence=[\n",
        "          'i love my dog',\n",
        "          'i love my cat',\n",
        "          'you love me dog!',\n",
        "          'do you think my dog is amazing'\n",
        "\n",
        "]\n",
        "\n",
        "token=Tokenizer(num_words=100,oov_token=\"<ovv>\")\n",
        "token.fit_on_texts(sentence)\n",
        "word=token.word_index\n",
        "print(word)"
      ],
      "execution_count": 3,
      "outputs": [
        {
          "output_type": "stream",
          "text": [
            "{'<ovv>': 1, 'love': 2, 'my': 3, 'dog': 4, 'i': 5, 'you': 6, 'cat': 7, 'me': 8, 'do': 9, 'think': 10, 'is': 11, 'amazing': 12}\n"
          ],
          "name": "stdout"
        }
      ]
    },
    {
      "cell_type": "code",
      "metadata": {
        "id": "oCE-JPK_lPMk",
        "colab_type": "code",
        "outputId": "e01f8c3e-e5f6-4c9b-d6e2-5c8f49f95c24",
        "colab": {
          "base_uri": "https://localhost:8080/",
          "height": 34
        }
      },
      "source": [
        "sequences=token.texts_to_sequences(sentence)\n",
        "print(sequences)"
      ],
      "execution_count": 4,
      "outputs": [
        {
          "output_type": "stream",
          "text": [
            "[[5, 2, 3, 4], [5, 2, 3, 7], [6, 2, 8, 4], [9, 6, 10, 3, 4, 11, 12]]\n"
          ],
          "name": "stdout"
        }
      ]
    },
    {
      "cell_type": "code",
      "metadata": {
        "id": "GCH2rzDWOxj5",
        "colab_type": "code",
        "colab": {
          "base_uri": "https://localhost:8080/",
          "height": 85
        },
        "outputId": "5c2dde7a-cdf5-46a1-e538-e3a4dc2ffc92"
      },
      "source": [
        "paded=pad_sequences(sequences)\n",
        "print(paded)"
      ],
      "execution_count": 10,
      "outputs": [
        {
          "output_type": "stream",
          "text": [
            "[[ 0  0  0  5  2  3  4]\n",
            " [ 0  0  0  5  2  3  7]\n",
            " [ 0  0  0  6  2  8  4]\n",
            " [ 9  6 10  3  4 11 12]]\n"
          ],
          "name": "stdout"
        }
      ]
    },
    {
      "cell_type": "code",
      "metadata": {
        "id": "3JaqGab6t4p5",
        "colab_type": "code",
        "outputId": "6ca329ac-0d5a-49af-874c-a4d3a6c01a29",
        "colab": {
          "base_uri": "https://localhost:8080/",
          "height": 34
        }
      },
      "source": [
        "test=[\n",
        "      \n",
        "      'i love ahmed',\n",
        "      'do you love me'\n",
        "]\n",
        "test_seq=token.texts_to_sequences(test)\n",
        "print(test_seq)"
      ],
      "execution_count": 7,
      "outputs": [
        {
          "output_type": "stream",
          "text": [
            "[[5, 2, 1], [9, 6, 2, 8]]\n"
          ],
          "name": "stdout"
        }
      ]
    },
    {
      "cell_type": "code",
      "metadata": {
        "id": "UjL7MlqguH1i",
        "colab_type": "code",
        "colab": {
          "base_uri": "https://localhost:8080/",
          "height": 51
        },
        "outputId": "31c7b7f0-8360-49e0-ca13-9be142da2bcb"
      },
      "source": [
        "pad_test=pad_sequences(test_seq)\n",
        "pad_test"
      ],
      "execution_count": 9,
      "outputs": [
        {
          "output_type": "execute_result",
          "data": {
            "text/plain": [
              "array([[0, 5, 2, 1],\n",
              "       [9, 6, 2, 8]], dtype=int32)"
            ]
          },
          "metadata": {
            "tags": []
          },
          "execution_count": 9
        }
      ]
    },
    {
      "cell_type": "code",
      "metadata": {
        "id": "luSRCsO6P0FK",
        "colab_type": "code",
        "colab": {}
      },
      "source": [
        ""
      ],
      "execution_count": 0,
      "outputs": []
    }
  ]
}